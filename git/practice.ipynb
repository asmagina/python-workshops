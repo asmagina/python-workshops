{
 "cells": [
  {
   "cell_type": "markdown",
   "metadata": {},
   "source": [
    "# Материалы лекций и практики &mdash; https://github.com/asmagina1995/python-workshops/tree/master/git"
   ]
  },
  {
   "cell_type": "markdown",
   "metadata": {
    "slideshow": {
     "slide_type": "slide"
    }
   },
   "source": [
    "# Задание 1\n",
    "\n",
    "1. Cоздать аккаунт на гитхабе.\n",
    "2. Сделать fork репозитория https://github.com/asmagina1995/test_repo.\n",
    "3. Выкачать fork-нутый репозиторий (https://github.com/[ваш_аккаунт_на_гихабе]/test_repo).\n",
    "4. Создать файл `README.md`, написать в нем пару строчек и залить в репозиторий.\n",
    "5. Изменить файл и `hello_world.py`алить в удаленный репозиторий."
   ]
  },
  {
   "cell_type": "markdown",
   "metadata": {
    "slideshow": {
     "slide_type": "slide"
    }
   },
   "source": [
    "# Задание 2\n",
    "\n",
    "1. Настроить подкачку обновлений из исходного удаленного репозитория (https://github.com/asmagina1995/test_repo).\n",
    "2. Поменять в файле `division.py` 13-ую строку любым образом.\n",
    "3. Выкачать обновления из исходного репозитория.\n",
    "4. Решить конфликт.\n",
    "5. Залить изменения в репозиторий."
   ]
  },
  {
   "cell_type": "markdown",
   "metadata": {
    "slideshow": {
     "slide_type": "slide"
    }
   },
   "source": [
    "# Задание 3\n",
    "\n",
    "1. Создать ветку.\n",
    "2. Добавить в нее файл `simple_file.txt` и заполнить его.\n",
    "3. Слить с мастером, решить конфликты, залить изменения, удалить ветку."
   ]
  },
  {
   "cell_type": "markdown",
   "metadata": {
    "slideshow": {
     "slide_type": "slide"
    }
   },
   "source": [
    "# Задание 4\n",
    "\n",
    "Сделать то же самое, что и 3, только через приложение `Tortoise Git`."
   ]
  }
 ],
 "metadata": {
  "kernelspec": {
   "display_name": "Python 2",
   "language": "python",
   "name": "python2"
  },
  "language_info": {
   "codemirror_mode": {
    "name": "ipython",
    "version": 2
   },
   "file_extension": ".py",
   "mimetype": "text/x-python",
   "name": "python",
   "nbconvert_exporter": "python",
   "pygments_lexer": "ipython2",
   "version": "2.7.12"
  }
 },
 "nbformat": 4,
 "nbformat_minor": 2
}
